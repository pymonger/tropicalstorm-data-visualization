{
 "cells": [
  {
   "cell_type": "markdown",
   "metadata": {},
   "source": [
    "* **FA17-BL-INFO-I590-14120**\n",
    "* **Data Visualization**\n",
    "* **Gerald Manipon, MS Data Science student - Indiana University**\n",
    "* **gmanipon@iu.edu**\n",
    "* **this jupyter notebook can be found here: https://github.com/pymonger/tropicalstorm-data-visualization**"
   ]
  },
  {
   "cell_type": "markdown",
   "metadata": {
    "collapsed": true
   },
   "source": [
    "# Requirements"
   ]
  },
  {
   "cell_type": "markdown",
   "metadata": {},
   "source": [
    "1. Install anaconda3 (https://www.continuum.io/downloads)\n",
    "1. Install requisite packages:\n",
    "   ```\n",
    "   conda install netCDF4\n",
    "   conda install pandoc\n",
    "   conda install -c conda-forge ipyleaflet\n",
    "   conda install -c conda-forge gdal\n",
    "   ```\n",
    "1. Add the following line to your .bash_profile and source it:\n",
    "   ```\n",
    "   export GDAL_DATA=$(gdal-config --datadir)\n",
    "   ```\n",
    "1. Download source dataset to directory containing this notebook file:\n",
    "   ```\n",
    "   wget ftp://eclipse.ncdc.noaa.gov/pub/ibtracs/v03r10/wmo/netcdf/Allstorms.ibtracs_wmo.v03r10.nc\n",
    "   ```\n",
    "1. Run jupyter:\n",
    "   ```\n",
    "   jupyter notebook\n",
    "   ```\n",
    "\n",
    "<font color='red'>**WARNING: If the above packages are not installed, you will not be able to parse the NetCDF4 dataset nor will you be able to render leaflet visualizations used in this notebook.**</font>"
   ]
  },
  {
   "cell_type": "markdown",
   "metadata": {},
   "source": [
    "# Introduction"
   ]
  },
  {
   "cell_type": "markdown",
   "metadata": {},
   "source": [
    "As a native of the Hawaiian Islands, I’ve lived through two hurricanes, Hurricane Iwa in 1982 and Hurricane Iniki in 1992, with a 10-year span between their occurrences. Since 1992, there have been a number of hurricanes that have come close to the islands but none that have made an impact like that of Iwa with a damage cost of \\$773 million dollars or Iniki with a damage cost of \\$3.2 billion dollars (both adjusted to 2006 dollars based on U.S. Department of Commerce Implicit Price Deflator for Construction) (Eric S. Blake, 2007). In contrast, Hurricanes Harvey and Irma ravaged the states of Texas and Florida and the US territory of Puerto Rico in one year, 2017, and it has been estimated that the economic cost of these hurricanes will exceed \\$150 billion (Horowitz, 2017). Is the occurrence of two or more costly hurricanes hitting the same US region within the same season a rare phenomenon? Or does it occur more often than not? To investigate, I will use the IBTrACKS (International Best Track Archive for Climate Stewardship) dataset to perform statistical analysis that will hopefully shed some light on these questions."
   ]
  },
  {
   "cell_type": "markdown",
   "metadata": {},
   "source": [
    "# Dataset"
   ]
  },
  {
   "cell_type": "markdown",
   "metadata": {},
   "source": [
    "## Dataset description"
   ]
  },
  {
   "cell_type": "markdown",
   "metadata": {},
   "source": [
    "The source dataset I will use comes from the IBTrACS (International Best Track Archive for Climate Stewardship) project: https://www.ncdc.noaa.gov/ibtracs/index.php. This project is endorsed by the WMO (World Meteorological Organization) as an \"official archiving and distribution resource for tropical cyclone best track data\". The IBTrACS project provides datasets that:\n",
    "\n",
    "* Contains the most complete global set of historical tropical cyclones available\n",
    "* Combines information from numerous tropical cyclone datasets\n",
    "* Simplifies inter-agency comparisons by providing storm data from multiple sources in one place\n",
    "* Provides data in popular formats to facilitate analysis\n",
    "* Checks the quality of storm inventories, positions, pressures, and wind speeds, passing the information on to the user\n",
    "\n",
    "I will be using the IBTrACS-WMO NetCDF file that contains all storms: https://www.ncdc.noaa.gov/ibtracs/index.php?name=wmo-data. Since NetCDF is a self-describing format, info about the variables contained in this dataset can be introspected. Additional info about the variables is located here: ftp://eclipse.ncdc.noaa.gov/pub/ibtracs/v03r10/wmo/netcdf/README.netcdf.\n",
    "\n",
    "I will be performing some ETL (extraction, transformation and loading) tasks to prepare and filter (remove records with missing values) the source dataset to a tidy dataset which I will use for this analysis. The source dataset essentially aggregates every recorded tropical storm from different source agencies and provides time-series information of pertinent variables describing the storm as it progressed through its track.\n",
    "\n",
    "The variables I will include from the source dataset are:\n",
    "\n",
    "* **landfall** { True, False }\n",
    "  ```\n",
    "    short landfall(storm, time) ;\n",
    "        landfall:long_name = \"Minimum distance to land until next report (0=landfall)\" ;\n",
    "        landfall:units = \"km\" ;\n",
    "        landfall:_FillValue = -999s ;\n",
    "  ```\n",
    "  * I will aggregate this variable into a single value of **True** or **False**. **True** signifies that the storm eventually made landfall at some point in the storm's track and **False** otherwise.\n",
    "* **genesis_basin** { 0 = NA - North Atlantic, 1 = SA - South Atlantic, 2 = WP - West Pacific, 3 = EP - East Pacific, 4 = SP - South Pacific, 5 = NI - North Indian, 6 = SI - South Indian }\n",
    "  ```\n",
    "    byte genesis_basin(storm) ;\n",
    "        genesis_basin:long_name = \"Basin of genesis\" ;\n",
    "        genesis_basin:units = \" \" ;\n",
    "        genesis_basin:key = \"0 = NA - North Atlantic\\n\",\n",
    "    \"1 = SA - South Atlantic\\n\",\n",
    "    \"2 = WP - West Pacific\\n\",\n",
    "    \"3 = EP - East Pacific\\n\",\n",
    "    \"4 = SP - South Pacific\\n\",\n",
    "    \"5 = NI - North Indian\\n\",\n",
    "    \"6 = SI - South Indian\\n\",\n",
    "    \"7 = AS - Arabian Sea\\n\",\n",
    "    \"8 = BB - Bay of Bengal\\n\",\n",
    "    \"9 = EA - Eastern Australia\\n\",\n",
    "    \"10 = WA - Western Australia\\n\",\n",
    "    \"11 = CP - Central Pacific\\n\",\n",
    "    \"12 = CS - Carribbean Sea\\n\",\n",
    "    \"13 = GM - Gulf of Mexico\\n\",\n",
    "    \"14 = MM - Missing\" ;\n",
    "        genesis_basin:Note = \"Based on where the storm began\" ;\n",
    "  ```\n",
    "  * the additional variable info at ftp://eclipse.ncdc.noaa.gov/pub/ibtracs/v03r08/wmo/netcdf/README.netcdf states that only values 0-6 are used for this variable thus I will be discretizing the values for this variable\n",
    "* **sub_basin** of first observation { 0 = NA - North Atlantic, 1 = SA - South Atlantic, 2 = WP - West Pacific, 3 = EP - East Pacific, 4 = SP - South Pacific, 5 = NI - North Indian, 6 = SI - South Indian, 7 = AS - Arabian Sea, 8 = BB - Bay of Bengal, 9 = EA - Eastern Australia, 10 = WA - Western Australia, 11 = CP - Central Pacific, 12 = CS - Carribbean Sea, 13 = GM - Gulf of Mexico, 14 = MM - Missing }\n",
    "  ```\n",
    "    byte sub_basin(storm, time) ;\n",
    "        sub_basin:long_name = \"Sub-Basin\" ;\n",
    "        sub_basin:units = \" \" ;\n",
    "        sub_basin:key = \"0 = NA - North Atlantic\\n\",\n",
    "    \"1 = SA - South Atlantic\\n\",\n",
    "    \"2 = WP - West Pacific\\n\",\n",
    "    \"3 = EP - East Pacific\\n\",\n",
    "    \"4 = SP - South Pacific\\n\",\n",
    "    \"5 = NI - North Indian\\n\",\n",
    "    \"6 = SI - South Indian\\n\",\n",
    "    \"7 = AS - Arabian Sea\\n\",\n",
    "    \"8 = BB - Bay of Bengal\\n\",\n",
    "    \"9 = EA - Eastern Australia\\n\",\n",
    "    \"10 = WA - Western Australia\\n\",\n",
    "    \"11 = CP - Central Pacific\\n\",\n",
    "    \"12 = CS - Carribbean Sea\\n\",\n",
    "    \"13 = GM - Gulf of Mexico\\n\",\n",
    "    \"14 = MM - Missing\" ;\n",
    "        sub_basin:Note = \"Based on present location\" ;\n",
    "        sub_basin:_FillValue = '\\201' ;\n",
    "  ```\n",
    "  * this variable will remain numeric since there are 14 values\n",
    "* **time** of first observation (MJD value) (REAL)\n",
    "  ```\n",
    "    double time_wmo(storm, time) ;\n",
    "        time_wmo:long_name = \"Modified Julian Day\" ;\n",
    "        time_wmo:units = \"days since 1858-11-17 00:00:00\" ;\n",
    "        time_wmo:_FillValue = 9.969209999999999e+36 ;\n",
    "  ```\n",
    "* **lon** (longitude) of first observation (REAL)\n",
    "  ```\n",
    "    short lon_wmo(storm, time) ;\n",
    "        lon_wmo:long_name = \"Storm center longitude\" ;\n",
    "        lon_wmo:units = \"degrees_east\" ;\n",
    "        lon_wmo:scale_factor = 0.0099999998f ;\n",
    "        lon_wmo:_FillValue = -32767s ;\n",
    "  ```\n",
    "* **lat** (latitude) of first observation (REAL)\n",
    "  ```\n",
    "    short lat_wmo(storm, time) ;\n",
    "        lat_wmo:long_name = \"Storm center latitude\" ;\n",
    "        lat_wmo:units = \"degrees_north\" ;\n",
    "        lat_wmo:scale_factor = 0.0099999998f ;\n",
    "        lat_wmo:_FillValue = -32767s ;\n",
    "  ```\n",
    "* **dist2land** (distance to land) of first observation (REAL)\n",
    "  ```\n",
    "    short dist2land(storm, time) ;\n",
    "        dist2land:long_name = \"Distance to land\" ;\n",
    "        dist2land:units = \"km\" ;\n",
    "        dist2land:_FillValue = -999s ;\n",
    "  ```\n",
    "* **msw** (maximum sustained wind) of first observation (REAL)\n",
    "  ```\n",
    "    short pres_wmo(storm, time) ;\n",
    "        pres_wmo:long_name = \"Minimum Central Pressure (MCP)\" ;\n",
    "        pres_wmo:units = \"mb\" ;\n",
    "        pres_wmo:scale_factor = 0.1f ;\n",
    "        pres_wmo:_FillValue = -32767s ;\n",
    "  ```\n",
    "* **mcp** (minimum central pressure) of first observation (REAL)\n",
    "  ```\n",
    "    short wind_wmo(storm, time) ;\n",
    "        wind_wmo:long_name = \"Maximum Sustained Wind (MSW)\" ;\n",
    "        wind_wmo:units = \"kt\" ;\n",
    "        wind_wmo:scale_factor = 0.1f ;\n",
    "        wind_wmo:_FillValue = -32767s ;\n",
    "  ```\n",
    "* **nature** (storm nature) { 0 = TS - Tropical, 1 = SS - Subtropical, 2 = ET - Extratropical, 3 = DS - Disturbance, 4 = MX - Mix of conflicting reports, 5 = NR - Not Reported, 6 = MM - Missing, 7 = - Missing }\n",
    "  ```\n",
    "        nature_wmo:long_name = \"Storm nature\" ;\n",
    "        nature_wmo:key = \"0 = TS - Tropical\\n\",\n",
    "    \"1 = SS - Subtropical\\n\",\n",
    "    \"2 = ET - Extratropical\\n\",\n",
    "    \"3 = DS - Disturbance\\n\",\n",
    "    \"4 = MX - Mix of conflicting reports\\n\",\n",
    "    \"5 = NR - Not Reported\\n\",\n",
    "    \"6 = MM - Missing\\n\",\n",
    "    \"7 =  - Missing\" ;\n",
    "        nature_wmo:Note = \"Based on classification from original sources\" ;\n",
    "        nature_wmo:_FillValue = '\\201' ;\n",
    "  ```\n",
    "  * this variable will be discretized\n",
    "* **track_type** { 0 = main - cylclogenesis to cyclolysis, 1 = merge - cyclogenesis to merger, 2 = split - split to cyclolysis, 3 = other - split to merger }\n",
    "  ```\n",
    "    byte track_type(storm) ;\n",
    "        track_type:long_name = \"Track type\" ;\n",
    "        track_type:key = \"0 = main - cyclogenesis to cyclolysis\\n\",\n",
    "    \"1 = merge - cyclogenesis to merger\\n\",\n",
    "    \"2 = split - split to cyclolysis\\n\",\n",
    "    \"3 = other - split to merger\" ;\n",
    "  ```\n",
    "  * this variable will be discretized\n"
   ]
  },
  {
   "cell_type": "code",
   "execution_count": 2,
   "metadata": {},
   "outputs": [
    {
     "ename": "OSError",
     "evalue": "No such file or directory",
     "output_type": "error",
     "traceback": [
      "\u001b[0;31m---------------------------------------------------------------------------\u001b[0m",
      "\u001b[0;31mOSError\u001b[0m                                   Traceback (most recent call last)",
      "\u001b[0;32m<ipython-input-2-e96d8bf702ce>\u001b[0m in \u001b[0;36m<module>\u001b[0;34m()\u001b[0m\n\u001b[1;32m     13\u001b[0m \u001b[0;31m#file = \"Allstorms.ibtracs_wmo.v03r10.nc\"\u001b[0m\u001b[0;34m\u001b[0m\u001b[0;34m\u001b[0m\u001b[0m\n\u001b[1;32m     14\u001b[0m \u001b[0murl\u001b[0m \u001b[0;34m=\u001b[0m \u001b[0;34m\"ftp://eclipse.ncdc.noaa.gov/pub/ibtracs/v03r10/wmo/netcdf/Allstorms.ibtracs_wmo.v03r10.nc\"\u001b[0m\u001b[0;34m\u001b[0m\u001b[0m\n\u001b[0;32m---> 15\u001b[0;31m \u001b[0mds\u001b[0m \u001b[0;34m=\u001b[0m \u001b[0mNC\u001b[0m\u001b[0;34m.\u001b[0m\u001b[0mDataset\u001b[0m\u001b[0;34m(\u001b[0m\u001b[0murl\u001b[0m\u001b[0;34m)\u001b[0m\u001b[0;34m\u001b[0m\u001b[0m\n\u001b[0m",
      "\u001b[0;32mnetCDF4/_netCDF4.pyx\u001b[0m in \u001b[0;36mnetCDF4._netCDF4.Dataset.__init__\u001b[0;34m()\u001b[0m\n",
      "\u001b[0;32mnetCDF4/_netCDF4.pyx\u001b[0m in \u001b[0;36mnetCDF4._netCDF4._ensure_nc_success\u001b[0;34m()\u001b[0m\n",
      "\u001b[0;31mOSError\u001b[0m: No such file or directory"
     ]
    }
   ],
   "source": [
    "import os, sys, re, json, time\n",
    "from copy import deepcopy\n",
    "from subprocess import check_output\n",
    "import netCDF4 as NC\n",
    "import numpy as np\n",
    "import pandas as pd\n",
    "from ipyleaflet import Map, GeoJSON\n",
    "from astropy.time import Time\n",
    "from IPython.display import display, HTML, Markdown\n",
    "\n",
    "\n",
    "# get netcdf dataset\n",
    "#file = \"Allstorms.ibtracs_wmo.v03r10.nc\"\n",
    "url = \"ftp://eclipse.ncdc.noaa.gov/pub/ibtracs/v03r10/wmo/netcdf/Allstorms.ibtracs_wmo.v03r10.nc\"\n",
    "ds = NC.Dataset(url)"
   ]
  },
  {
   "cell_type": "code",
   "execution_count": null,
   "metadata": {
    "collapsed": true
   },
   "outputs": [],
   "source": []
  }
 ],
 "metadata": {
  "kernelspec": {
   "display_name": "Python 3",
   "language": "python",
   "name": "python3"
  },
  "language_info": {
   "codemirror_mode": {
    "name": "ipython",
    "version": 3
   },
   "file_extension": ".py",
   "mimetype": "text/x-python",
   "name": "python",
   "nbconvert_exporter": "python",
   "pygments_lexer": "ipython3",
   "version": "3.6.1"
  },
  "latex_envs": {
   "LaTeX_envs_menu_present": true,
   "autocomplete": true,
   "bibliofile": "biblio.bib",
   "cite_by": "apalike",
   "current_citInitial": 1,
   "eqLabelWithNumbers": true,
   "eqNumInitial": 1,
   "hotkeys": {
    "equation": "Ctrl-E",
    "itemize": "Ctrl-I"
   },
   "labels_anchors": false,
   "latex_user_defs": false,
   "report_style_numbering": false,
   "user_envs_cfg": false
  }
 },
 "nbformat": 4,
 "nbformat_minor": 2
}
